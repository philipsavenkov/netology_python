{
 "cells": [
  {
   "cell_type": "markdown",
   "metadata": {},
   "source": [
    "# Task 1"
   ]
  },
  {
   "cell_type": "code",
   "execution_count": 90,
   "metadata": {},
   "outputs": [],
   "source": [
    "data = [\n",
    "[13, 25, 23, 34],\n",
    "[45, 32, 44, 47],\n",
    "[12, 33, 23, 95],\n",
    "[13, 53, 34, 35],\n",
    "]"
   ]
  },
  {
   "cell_type": "code",
   "execution_count": 91,
   "metadata": {},
   "outputs": [],
   "source": [
    "def diagonal_sum(arr):\n",
    "    diag_sum = 0\n",
    "    for i in range (0, len(arr)):\n",
    "        diag_sum += arr[i][i]\n",
    "    return diag_sum"
   ]
  },
  {
   "cell_type": "markdown",
   "metadata": {},
   "source": [
    "# Task 2"
   ]
  },
  {
   "cell_type": "code",
   "execution_count": 92,
   "metadata": {},
   "outputs": [],
   "source": [
    "data = [1, '5', 'abc', 20, '2']"
   ]
  },
  {
   "cell_type": "code",
   "execution_count": 93,
   "metadata": {},
   "outputs": [],
   "source": [
    "def sum_squares_numbers(arr):\n",
    "    sum_squares = 0\n",
    "    for i in range(0, len(arr)):\n",
    "        try:\n",
    "            arr[i] = int(arr[i])\n",
    "            sum_squares += int(arr[i]) ** 2\n",
    "        except ValueError:\n",
    "            pass\n",
    "    return sum_squares"
   ]
  },
  {
   "cell_type": "markdown",
   "metadata": {},
   "source": [
    "# Task 3"
   ]
  },
  {
   "cell_type": "code",
   "execution_count": 175,
   "metadata": {},
   "outputs": [],
   "source": [
    "import urllib.request, json \n",
    "with urllib.request.urlopen('https://www.cbr-xml-daily.ru/daily_json.js') as url:\n",
    "    data = json.loads(url.read().decode())\n",
    "\n",
    "def get_maximum_currency():    \n",
    "    dict_curr_value = {}\n",
    "    array_keys = list(data['Valute'])\n",
    "\n",
    "    for i in range(0, len(array_keys)):\n",
    "        dict_curr_value[array_keys[i]] = data['Valute'][array_keys[i]]['Value']\n",
    "    \n",
    "    #print(dict_curr_value)    \n",
    "    max_currency = max(dict_curr_value, key = dict_curr_value.get)\n",
    "    print(max_currency, dict_curr_value[max_currency])"
   ]
  },
  {
   "cell_type": "code",
   "execution_count": 176,
   "metadata": {
    "scrolled": true
   },
   "outputs": [
    {
     "name": "stdout",
     "output_type": "stream",
     "text": [
      "DKK 96.8239\n"
     ]
    }
   ],
   "source": [
    "get_maximum_currency()"
   ]
  },
  {
   "cell_type": "markdown",
   "metadata": {},
   "source": [
    "# Task 4"
   ]
  },
  {
   "cell_type": "markdown",
   "metadata": {},
   "source": [
    "Не успел до конца разобраться с классами, поэтому 4-ое задание не выполнено."
   ]
  },
  {
   "cell_type": "markdown",
   "metadata": {},
   "source": [
    "# Task 5"
   ]
  },
  {
   "cell_type": "code",
   "execution_count": 240,
   "metadata": {},
   "outputs": [],
   "source": [
    "from math import sqrt\n",
    "def F(n):\n",
    "    sum_fib = 0\n",
    "    for i in range(0, n):\n",
    "        sum_fib += ((1+sqrt(5))**i-(1-sqrt(5))**i)/(2**i*sqrt(5))\n",
    "    return(sum_fib)"
   ]
  },
  {
   "cell_type": "code",
   "execution_count": 241,
   "metadata": {},
   "outputs": [
    {
     "data": {
      "text/plain": [
       "54.0"
      ]
     },
     "execution_count": 241,
     "metadata": {},
     "output_type": "execute_result"
    }
   ],
   "source": [
    "F(9)"
   ]
  },
  {
   "cell_type": "markdown",
   "metadata": {},
   "source": [
    "# Task 6"
   ]
  },
  {
   "cell_type": "code",
   "execution_count": 3,
   "metadata": {},
   "outputs": [],
   "source": [
    "list_input = ['2018-01-01', 'yandex', 'cpc', 100]"
   ]
  },
  {
   "cell_type": "markdown",
   "metadata": {},
   "source": [
    "Решение \"в лоб\" глупое"
   ]
  },
  {
   "cell_type": "code",
   "execution_count": 601,
   "metadata": {},
   "outputs": [],
   "source": [
    "def list_conversion(arr):\n",
    "    dict_output_1 = {}\n",
    "    dict_output_2 = {}\n",
    "    dict_output_3 = {}\n",
    "    dict_output_3[arr[2]] = arr[3]\n",
    "    dict_output_2[arr[1]] = dict_output_3\n",
    "    dict_output_1[arr[0]] = dict_output_2\n",
    "    return(dict_output_1)"
   ]
  },
  {
   "cell_type": "code",
   "execution_count": 602,
   "metadata": {},
   "outputs": [
    {
     "data": {
      "text/plain": [
       "{'2018-01-01': {'yandex': {'cpc': 100}}}"
      ]
     },
     "execution_count": 602,
     "metadata": {},
     "output_type": "execute_result"
    }
   ],
   "source": [
    "list_conversion(list_input)"
   ]
  },
  {
   "cell_type": "markdown",
   "metadata": {},
   "source": [
    "Решение итеративное, потрачено много времени)))) Очень. Зато гордость, что добил до конца, и все работает. "
   ]
  },
  {
   "cell_type": "code",
   "execution_count": 4,
   "metadata": {},
   "outputs": [],
   "source": [
    "def list_conversion(arr):\n",
    "    dict_output = {}\n",
    "    dict_output[arr[len(arr) - 2]] = arr[len(arr) - 1]\n",
    "    for i in range(0, len(arr) - 2):\n",
    "        dict_output[arr[len(arr) - 3 - i]] = dict(dict_output)\n",
    "        del dict_output[arr[len(arr) - 2 - i]]\n",
    "    #print(dict_output)\n",
    "    return(dict_output)"
   ]
  },
  {
   "cell_type": "code",
   "execution_count": 5,
   "metadata": {},
   "outputs": [
    {
     "data": {
      "text/plain": [
       "{'2018-01-01': {'yandex': {'cpc': 100}}}"
      ]
     },
     "execution_count": 5,
     "metadata": {},
     "output_type": "execute_result"
    }
   ],
   "source": [
    "list_conversion(list_input)"
   ]
  },
  {
   "cell_type": "markdown",
   "metadata": {},
   "source": [
    "Можно протестить для списка подлинее:"
   ]
  },
  {
   "cell_type": "code",
   "execution_count": 6,
   "metadata": {},
   "outputs": [],
   "source": [
    "list_input_long = ['2018-01-01', 'yandex', 'cpc', 100, 200, 300, 400, 500, 600]"
   ]
  },
  {
   "cell_type": "code",
   "execution_count": 7,
   "metadata": {},
   "outputs": [
    {
     "data": {
      "text/plain": [
       "{'2018-01-01': {'yandex': {'cpc': {100: {200: {300: {400: {500: 600}}}}}}}}"
      ]
     },
     "execution_count": 7,
     "metadata": {},
     "output_type": "execute_result"
    }
   ],
   "source": [
    "list_conversion(list_input_long)"
   ]
  }
 ],
 "metadata": {
  "kernelspec": {
   "display_name": "Python 3",
   "language": "python",
   "name": "python3"
  },
  "language_info": {
   "codemirror_mode": {
    "name": "ipython",
    "version": 3
   },
   "file_extension": ".py",
   "mimetype": "text/x-python",
   "name": "python",
   "nbconvert_exporter": "python",
   "pygments_lexer": "ipython3",
   "version": "3.7.0"
  }
 },
 "nbformat": 4,
 "nbformat_minor": 2
}
