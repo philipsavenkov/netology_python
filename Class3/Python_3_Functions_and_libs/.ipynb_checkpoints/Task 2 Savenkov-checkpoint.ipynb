{
 "cells": [
  {
   "cell_type": "markdown",
   "metadata": {},
   "source": [
    "# Task 1"
   ]
  },
  {
   "cell_type": "code",
   "execution_count": 1,
   "metadata": {},
   "outputs": [],
   "source": [
    "geo_logs = [\n",
    "    {'visit1': ['Москва', 'Россия']},\n",
    "    {'visit2': ['Дели', 'Индия']},\n",
    "    {'visit3': ['Владимир', 'Россия']},\n",
    "    {'visit4': ['Лиссабон', 'Португалия']},\n",
    "    {'visit5': ['Париж', 'Франция']},\n",
    "    {'visit6': ['Лиссабон', 'Португалия']},\n",
    "    {'visit7': ['Тула', 'Россия']},\n",
    "    {'visit8': ['Тула', 'Россия']},\n",
    "    {'visit9': ['Курск', 'Россия']},\n",
    "    {'visit10': ['Архангельск', 'Россия']},\n",
    "]"
   ]
  },
  {
   "cell_type": "code",
   "execution_count": 57,
   "metadata": {},
   "outputs": [
    {
     "name": "stdout",
     "output_type": "stream",
     "text": [
      "[{'visit1': ['Москва', 'Россия']}, {'visit3': ['Владимир', 'Россия']}, {'visit7': ['Тула', 'Россия']}, {'visit8': ['Тула', 'Россия']}, {'visit9': ['Курск', 'Россия']}, {'visit10': ['Архангельск', 'Россия']}]\n"
     ]
    }
   ],
   "source": [
    "geo_logs_new = list()\n",
    "\n",
    "for i in range(0, len(geo_logs)):\n",
    "    if 'Россия' in list(geo_logs[i].values())[0]:\n",
    "        geo_logs_new.append(geo_logs[i])\n",
    "\n",
    "print(geo_logs_new)"
   ]
  },
  {
   "cell_type": "markdown",
   "metadata": {},
   "source": [
    "# Task 2"
   ]
  },
  {
   "cell_type": "code",
   "execution_count": 91,
   "metadata": {},
   "outputs": [],
   "source": [
    "ids = {'user1': [213, 213, 213, 15, 213], 'user2': [54, 54, 119, 119, 119], 'user3': [213, 98, 98, 35]}"
   ]
  },
  {
   "cell_type": "code",
   "execution_count": 92,
   "metadata": {},
   "outputs": [
    {
     "name": "stdout",
     "output_type": "stream",
     "text": [
      "[98, 35, 15, 213, 54, 119]\n"
     ]
    }
   ],
   "source": [
    "unique_ids = list()\n",
    "\n",
    "for i in range(0, len(ids)):\n",
    "    unique_ids = unique_ids + list(ids.values())[i]\n",
    "    i += 1\n",
    "\n",
    "print(list(set(unique_ids)))"
   ]
  },
  {
   "cell_type": "markdown",
   "metadata": {},
   "source": [
    "# Task 3"
   ]
  },
  {
   "cell_type": "code",
   "execution_count": 179,
   "metadata": {},
   "outputs": [],
   "source": [
    "queries = [\n",
    "    'смотреть сериалы онлайн',\n",
    "    'новости спорта',\n",
    "    'афиша кино',\n",
    "    'курс доллара',\n",
    "    'сериалы этим летом',\n",
    "    'курс по питону',\n",
    "    'сериалы про спорт',\n",
    "]"
   ]
  },
  {
   "cell_type": "code",
   "execution_count": 180,
   "metadata": {
    "scrolled": true
   },
   "outputs": [
    {
     "name": "stdout",
     "output_type": "stream",
     "text": [
      "Поисковых запросов из 2 слов - 43%\n",
      "Поисковых запросов из 3 слов - 57%\n"
     ]
    }
   ],
   "source": [
    "'''\n",
    "сначала найдем, сколько слов было во всех запросах - то есть определим категории, для которых считать % \n",
    "и получим список из количества слов в запросах. Это для более общего случая, если будет много запросов\n",
    "с разным кол-вом слов в запросе. Получилось очень громоздко, подозреваю, что можно сделать проще и изящнее)\n",
    "\n",
    "Маленькими латинскими буквами обозначаю счетчики\n",
    "'''\n",
    "\n",
    "word_count = list()\n",
    "words = list()\n",
    "for i in range(0, len(queries)):\n",
    "    word_count.append(len(queries[i].split()))\n",
    "    words.append(len(queries[i].split()))\n",
    "word_count = list(set(word_count))\n",
    "#print(word_count)\n",
    "#print(words)\n",
    "\n",
    "for j in range(0, len(word_count)):\n",
    "    occasions = 0\n",
    "    for k in range(0, len(words)):\n",
    "        if words[k] == word_count[j]:\n",
    "            occasions += 1\n",
    "            k += 1\n",
    "        else:\n",
    "            k += 1\n",
    "    print('Поисковых запросов из ' + str(word_count[j]) + ' слов - ' + str(round(occasions/len(words)*100)) + '%')\n",
    "    j += 1"
   ]
  },
  {
   "cell_type": "markdown",
   "metadata": {},
   "source": [
    "# Task 4"
   ]
  },
  {
   "cell_type": "code",
   "execution_count": 181,
   "metadata": {},
   "outputs": [],
   "source": [
    "stats = {'facebook': 55, 'yandex': 120, 'vk': 115, 'google': 99, 'email': 42, 'ok': 98}"
   ]
  },
  {
   "cell_type": "code",
   "execution_count": 186,
   "metadata": {},
   "outputs": [
    {
     "data": {
      "text/plain": [
       "'yandex'"
      ]
     },
     "execution_count": 186,
     "metadata": {},
     "output_type": "execute_result"
    }
   ],
   "source": [
    "max(stats.keys(), key=(lambda key: stats[key]))"
   ]
  },
  {
   "cell_type": "markdown",
   "metadata": {},
   "source": [
    "# Task 5"
   ]
  },
  {
   "cell_type": "code",
   "execution_count": 226,
   "metadata": {},
   "outputs": [],
   "source": [
    "stream = [\n",
    "    '2018-01-01,user1,3',\n",
    "    '2018-01-07,user1,4',\n",
    "    '2018-03-29,user1,1',\n",
    "    '2018-04-04,user1,13',\n",
    "    '2018-01-05,user2,7',\n",
    "    '2018-06-14,user3,4',\n",
    "    '2018-07-02,user3,10',\n",
    "    '2018-03-21,user4,19',\n",
    "    '2018-03-22,user4,4',\n",
    "    '2018-04-22,user4,8',\n",
    "    '2018-05-03,user4,9',\n",
    "    '2018-05-11,user4,11',\n",
    "]"
   ]
  },
  {
   "cell_type": "code",
   "execution_count": 227,
   "metadata": {},
   "outputs": [
    {
     "name": "stdout",
     "output_type": "stream",
     "text": [
      "Среднее количество посещений у пользователя user1 - 5.25\n",
      "Среднее количество посещений у пользователя user2 - 7.0\n",
      "Среднее количество посещений у пользователя user3 - 7.0\n",
      "Среднее количество посещений у пользователя user4 - 10.2\n"
     ]
    }
   ],
   "source": [
    "'''\n",
    "аналогично предыдущему, к сожалению, не смог осилить lambda. из-за этого получается много циклов и\n",
    "счетчиков, что не круто, конечно(\n",
    "\n",
    "Маленькими латинскими буквами обозначаю счетчики\n",
    "'''\n",
    "\n",
    "user_id = list() #список всех пользователей\n",
    "\n",
    "for i in range(0, len(stream)):\n",
    "    user_id.append(stream[i].split(',')[1])\n",
    "user_id = list(set(user_id))\n",
    "user_id.sort()\n",
    "\n",
    "#print(user_id)\n",
    "\n",
    "for j in range(0, len(user_id)):\n",
    "    visit_sum = 0\n",
    "    l = 0\n",
    "    for k in range(0, len(stream)):\n",
    "        if stream[k].split(',')[1] == user_id[j]:\n",
    "            visit_sum = visit_sum + int(stream[k].split(',')[2])\n",
    "            k += 1\n",
    "            l += 1\n",
    "        else:\n",
    "            k += 1\n",
    "    print('Среднее количество посещений у пользователя ' + str(user_id[j]) + ' - ' + str(visit_sum/l))\n",
    "    j += 1"
   ]
  },
  {
   "cell_type": "markdown",
   "metadata": {},
   "source": [
    "# Task 6"
   ]
  },
  {
   "cell_type": "code",
   "execution_count": 228,
   "metadata": {},
   "outputs": [],
   "source": [
    "stats = [\n",
    "    ['2018-01-01', 'google', 25],\n",
    "    ['2018-01-01', 'yandex', 65],\n",
    "    ['2018-01-01', 'market', 89],\n",
    "    ['2018-01-02', 'google', 574],\n",
    "    ['2018-01-02', 'yandex', 249],\n",
    "    ['2018-01-02', 'market', 994],\n",
    "    ['2018-01-03', 'google', 1843],\n",
    "    ['2018-01-03', 'yandex', 1327],\n",
    "    ['2018-01-03', 'market', 1764],\n",
    "]"
   ]
  },
  {
   "cell_type": "code",
   "execution_count": 261,
   "metadata": {},
   "outputs": [
    {
     "name": "stdout",
     "output_type": "stream",
     "text": [
      "Введите дату: 2018-01-01\n",
      "Введите компанию: yandex\n",
      "Статистика по компании на выбранную дату 65\n"
     ]
    }
   ],
   "source": [
    "date = str(input('Введите дату: '))\n",
    "company = str(input('Введите компанию: '))\n",
    "\n",
    "check = 0 #чекер на то, была ли найдена пара дата-компания в списке или нет\n",
    "for i in range(0, len(stats)):\n",
    "    if date == stats[i][0] and company == stats[i][1]:\n",
    "        print('Статистика по компании на выбранную дату ' + str(stats[i][2]))\n",
    "        check = 1\n",
    "\n",
    "if check == 0:\n",
    "    print('Пара дата-компания не найдена')"
   ]
  },
  {
   "cell_type": "code",
   "execution_count": null,
   "metadata": {},
   "outputs": [],
   "source": []
  }
 ],
 "metadata": {
  "kernelspec": {
   "display_name": "Python 3",
   "language": "python",
   "name": "python3"
  },
  "language_info": {
   "codemirror_mode": {
    "name": "ipython",
    "version": 3
   },
   "file_extension": ".py",
   "mimetype": "text/x-python",
   "name": "python",
   "nbconvert_exporter": "python",
   "pygments_lexer": "ipython3",
   "version": "3.7.0"
  }
 },
 "nbformat": 4,
 "nbformat_minor": 2
}
