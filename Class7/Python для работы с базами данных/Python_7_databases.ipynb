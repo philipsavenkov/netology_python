{
 "cells": [
  {
   "cell_type": "markdown",
   "metadata": {},
   "source": [
    "## Python для работы с базами данных"
   ]
  },
  {
   "cell_type": "markdown",
   "metadata": {},
   "source": [
    "Изменения в Vagrantfile:\n",
    "1. Перед запуском виртуалки раскомментировать строку 50\n",
    "```bash\n",
    "config.vm.network \"forwarded_port\", guest: 5432, host: 5432, host_ip: \"127.0.0.1\"\n",
    "```\n",
    "\n",
    "2. На виртуалке меняем в конфигурационном файле postgresql метод аутентификации (в редакторе nano после внесения изменений нажимаем Ctrl+x и на вопрос отвечаем y + enter):\n",
    "```bash\n",
    "sudo nano /etc/postgresql/10/main/pg_hba.conf\n",
    "```\n",
    "\n",
    "Находим строчку (в конце файла)\n",
    "```bash\n",
    "# Database administrative login by Unix domain socket\n",
    "local   all             postgres                                peer\n",
    "```\n",
    "\n",
    "меняем peer на md5\n",
    "```bash\n",
    "local   all             postgres                                md5\n",
    "```\n",
    "\n",
    "и разрешаем подключения извне (меняем 127.0.0.1/32 на 0.0.0.0/0)\n",
    "```bash\n",
    "# IPv4 local connections:\n",
    "host    all             all             0.0.0.0/0            md5\n",
    "```\n",
    "\n",
    "В файле конфигураций разрешаем слушать все IP-адреса\n",
    "```bash\n",
    "sudo nano /etc/postgresql/10/main/postgresql.conf\n",
    "# находим строчку с listen_addresses и меняем значение на\n",
    "listen_addresses = '*'\n",
    "```\n",
    "\n",
    "В конце перезапускаем postgresql\n",
    "```bash\n",
    "sudo service postgresql restart\n",
    "```\n",
    "\n",
    "3. Заходим под пользователем postgres и добавляем в базу пользователя с правами на чтение\n",
    "```bash\n",
    "sudo su -l postgres\n",
    "psql -U postgres -c \"CREATE ROLE readaccess;\"\n",
    "psql -U postgres -c \"GRANT SELECT ON ALL TABLES IN SCHEMA public TO readaccess;\"\n",
    "psql -U postgres -c \"ALTER DEFAULT PRIVILEGES IN SCHEMA public GRANT SELECT ON TABLES TO readaccess;\"\n",
    "psql -U postgres -c \"CREATE USER ds WITH PASSWORD 'ds';\"\n",
    "psql -U postgres -c \"GRANT readaccess TO ds;\"\n",
    "```"
   ]
  },
  {
   "cell_type": "code",
   "execution_count": null,
   "metadata": {},
   "outputs": [],
   "source": [
    "import psycopg2"
   ]
  },
  {
   "cell_type": "code",
   "execution_count": null,
   "metadata": {},
   "outputs": [],
   "source": [
    "# инициализируем соединение с базой данных\n",
    "conn = psycopg2.connect(\"dbname='postgres' user='ds' host='127.0.0.1' password='ds'\")"
   ]
  },
  {
   "cell_type": "code",
   "execution_count": null,
   "metadata": {},
   "outputs": [],
   "source": [
    "cur = conn.cursor()"
   ]
  },
  {
   "cell_type": "code",
   "execution_count": null,
   "metadata": {},
   "outputs": [],
   "source": [
    "# для больших запросов\n",
    "cur.itersize = 10000"
   ]
  },
  {
   "cell_type": "code",
   "execution_count": null,
   "metadata": {},
   "outputs": [],
   "source": [
    "# отправляем запрос\n",
    "cur.execute('SELECT COUNT(*) FROM ratings;')"
   ]
  },
  {
   "cell_type": "code",
   "execution_count": null,
   "metadata": {},
   "outputs": [],
   "source": [
    "# получаем все строки ответа\n",
    "cur.fetchall()"
   ]
  },
  {
   "cell_type": "code",
   "execution_count": null,
   "metadata": {},
   "outputs": [],
   "source": [
    "cur.execute('SELECT * FROM ratings order by userid limit 10;')"
   ]
  },
  {
   "cell_type": "code",
   "execution_count": null,
   "metadata": {},
   "outputs": [],
   "source": [
    "for row in cur:\n",
    "    print(row)"
   ]
  },
  {
   "cell_type": "markdown",
   "metadata": {},
   "source": [
    "### Немного про запросы в MySQL"
   ]
  },
  {
   "cell_type": "code",
   "execution_count": null,
   "metadata": {},
   "outputs": [],
   "source": [
    "# для тяжелых запросов к MySQL можно использовать SSDictCursor\n",
    "import pymysql\n",
    "\n",
    "connection = pymysql.connect(\n",
    "    host = 'dbhost',\n",
    "    port = 3306,\n",
    "    user = 'dbuser',\n",
    "    password = 'dbpass',\n",
    "    db = 'db',\n",
    "    cursorclass = pymysql.cursors.SSDictCursor\n",
    ")\n",
    "\n",
    "with connection.cursor() as cursor:\n",
    "    cursor.execute(sqlQuery)\n",
    "\n",
    "    for line in cursor:\n",
    "        print(line)"
   ]
  },
  {
   "cell_type": "markdown",
   "metadata": {},
   "source": [
    "### Базы данных и pandas"
   ]
  },
  {
   "cell_type": "code",
   "execution_count": null,
   "metadata": {},
   "outputs": [],
   "source": [
    "import pandas as pd"
   ]
  },
  {
   "cell_type": "code",
   "execution_count": null,
   "metadata": {},
   "outputs": [],
   "source": [
    "data = pd.read_sql('SELECT * FROM ratings limit 10;', conn)\n",
    "data"
   ]
  },
  {
   "cell_type": "markdown",
   "metadata": {},
   "source": [
    "## Персональные данные"
   ]
  },
  {
   "cell_type": "code",
   "execution_count": 1,
   "metadata": {},
   "outputs": [],
   "source": [
    "# плохой вариант для аналитики\n",
    "database_rows = [\n",
    "    {'name': 'Наталья', 'email': 'nata123@mail.ru', 'ip': '127.0.0.1'},\n",
    "    {'name': 'Михаил', 'email': 'mikha@yandex.ru', 'ip': '127.0.0.1'},\n",
    "]"
   ]
  },
  {
   "cell_type": "code",
   "execution_count": 2,
   "metadata": {},
   "outputs": [],
   "source": [
    "import hashlib"
   ]
  },
  {
   "cell_type": "code",
   "execution_count": 3,
   "metadata": {},
   "outputs": [
    {
     "data": {
      "text/plain": [
       "{'DSA',\n",
       " 'DSA-SHA',\n",
       " 'MD4',\n",
       " 'MD5',\n",
       " 'MDC2',\n",
       " 'RIPEMD160',\n",
       " 'SHA',\n",
       " 'SHA1',\n",
       " 'SHA224',\n",
       " 'SHA256',\n",
       " 'SHA384',\n",
       " 'SHA512',\n",
       " 'blake2b',\n",
       " 'blake2s',\n",
       " 'dsaEncryption',\n",
       " 'dsaWithSHA',\n",
       " 'ecdsa-with-SHA1',\n",
       " 'md4',\n",
       " 'md5',\n",
       " 'mdc2',\n",
       " 'ripemd160',\n",
       " 'sha',\n",
       " 'sha1',\n",
       " 'sha224',\n",
       " 'sha256',\n",
       " 'sha384',\n",
       " 'sha3_224',\n",
       " 'sha3_256',\n",
       " 'sha3_384',\n",
       " 'sha3_512',\n",
       " 'sha512',\n",
       " 'shake_128',\n",
       " 'shake_256',\n",
       " 'whirlpool'}"
      ]
     },
     "execution_count": 3,
     "metadata": {},
     "output_type": "execute_result"
    }
   ],
   "source": [
    "hashlib.algorithms_available"
   ]
  },
  {
   "cell_type": "code",
   "execution_count": 4,
   "metadata": {},
   "outputs": [
    {
     "data": {
      "text/plain": [
       "'c1527fb63ff80c7cbae0ab842c86b3d436571a6a157c2f8c7eb772a363bb3e4b'"
      ]
     },
     "execution_count": 4,
     "metadata": {},
     "output_type": "execute_result"
    }
   ],
   "source": [
    "m = hashlib.sha256()\n",
    "\n",
    "m.update(b'usernameyandex.ru')\n",
    "m.hexdigest()"
   ]
  },
  {
   "cell_type": "code",
   "execution_count": 5,
   "metadata": {},
   "outputs": [
    {
     "data": {
      "text/plain": [
       "'3bf8b7f444c933c4fb5136da4742e85dad9f008e8e25d36fa5d75510a59a34c2'"
      ]
     },
     "execution_count": 5,
     "metadata": {},
     "output_type": "execute_result"
    }
   ],
   "source": [
    "m = hashlib.sha256()\n",
    "\n",
    "m.update(b'usernameyandex.ru.')\n",
    "m.hexdigest()"
   ]
  },
  {
   "cell_type": "markdown",
   "metadata": {},
   "source": [
    "### Упражнение\n",
    "Зашифруйте персональные данные в списке database_rows"
   ]
  },
  {
   "cell_type": "code",
   "execution_count": null,
   "metadata": {},
   "outputs": [],
   "source": []
  },
  {
   "cell_type": "code",
   "execution_count": null,
   "metadata": {},
   "outputs": [],
   "source": []
  }
 ],
 "metadata": {
  "kernelspec": {
   "display_name": "Python 3",
   "language": "python",
   "name": "python3"
  },
  "language_info": {
   "codemirror_mode": {
    "name": "ipython",
    "version": 3
   },
   "file_extension": ".py",
   "mimetype": "text/x-python",
   "name": "python",
   "nbconvert_exporter": "python",
   "pygments_lexer": "ipython3",
   "version": "3.7.0"
  }
 },
 "nbformat": 4,
 "nbformat_minor": 2
}
