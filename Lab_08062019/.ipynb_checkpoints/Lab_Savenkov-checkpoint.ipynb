{
 "cells": [
  {
   "cell_type": "markdown",
   "metadata": {},
   "source": [
    "# 1.1"
   ]
  },
  {
   "cell_type": "code",
   "execution_count": 4,
   "metadata": {},
   "outputs": [],
   "source": [
    "numbers = list(range(0, 15))"
   ]
  },
  {
   "cell_type": "code",
   "execution_count": 13,
   "metadata": {},
   "outputs": [
    {
     "name": "stdout",
     "output_type": "stream",
     "text": [
      "50\n"
     ]
    }
   ],
   "source": [
    "sum = 0\n",
    "for i in numbers:\n",
    "    if  i > 10:\n",
    "        sum += i\n",
    "print(sum)"
   ]
  },
  {
   "cell_type": "markdown",
   "metadata": {},
   "source": [
    "# 1.2"
   ]
  },
  {
   "cell_type": "code",
   "execution_count": 14,
   "metadata": {},
   "outputs": [],
   "source": [
    "list = ['sgwg', 'wwedr', 'rhwr', 'fbb']"
   ]
  },
  {
   "cell_type": "code",
   "execution_count": 15,
   "metadata": {},
   "outputs": [
    {
     "name": "stdout",
     "output_type": "stream",
     "text": [
      "wwedr\n",
      "rhwr\n"
     ]
    }
   ],
   "source": [
    "for item in list:\n",
    "    if item.endswith('r'):\n",
    "        print(item)"
   ]
  },
  {
   "cell_type": "markdown",
   "metadata": {},
   "source": [
    "# 1.3"
   ]
  },
  {
   "cell_type": "code",
   "execution_count": 301,
   "metadata": {},
   "outputs": [
    {
     "name": "stdout",
     "output_type": "stream",
     "text": [
      "946493"
     ]
    }
   ],
   "source": [
    "output = []\n",
    "\n",
    "import random\n",
    "import random\n",
    "for i in range(6):\n",
    "    output.append(random.randint(1,9))\n",
    "\n",
    "if 3 in output:\n",
    "    for i in output: \n",
    "        print(i, end=\"\")\n",
    "else:\n",
    "    output_check = output\n",
    "    while 3 not in output_check:\n",
    "        output_check = []\n",
    "        for i in range(6):\n",
    "            output_check.append(random.randint(1,9))\n",
    "    for i in output_check: \n",
    "        print(i, end=\"\")"
   ]
  },
  {
   "cell_type": "markdown",
   "metadata": {},
   "source": [
    "# 1.4"
   ]
  },
  {
   "cell_type": "code",
   "execution_count": 67,
   "metadata": {},
   "outputs": [],
   "source": [
    "string = 'sdgsdg sdgsdg werwer werefb'"
   ]
  },
  {
   "cell_type": "code",
   "execution_count": 53,
   "metadata": {},
   "outputs": [
    {
     "name": "stdout",
     "output_type": "stream",
     "text": [
      "4\n"
     ]
    }
   ],
   "source": [
    "words = len(string.split())\n",
    "print(words)"
   ]
  },
  {
   "cell_type": "code",
   "execution_count": 75,
   "metadata": {},
   "outputs": [
    {
     "data": {
      "text/plain": [
       "24"
      ]
     },
     "execution_count": 75,
     "metadata": {},
     "output_type": "execute_result"
    }
   ],
   "source": [
    "letters = string.split()\n",
    "letters_list = ''.join(letters)\n",
    "len(letters_list)"
   ]
  },
  {
   "cell_type": "markdown",
   "metadata": {},
   "source": [
    "# 2.1"
   ]
  },
  {
   "cell_type": "code",
   "execution_count": 81,
   "metadata": {},
   "outputs": [],
   "source": [
    "import numpy as np\n",
    "matrix = np.random.rand(4,4)\n",
    "#print(matrix)"
   ]
  },
  {
   "cell_type": "code",
   "execution_count": 88,
   "metadata": {
    "scrolled": true
   },
   "outputs": [
    {
     "name": "stdout",
     "output_type": "stream",
     "text": [
      "[0.6473144197623162, 0.688368008070143, 0.8373740861146367, 0.04825618095151907, 0.6937440751255138, 0.5072037098305872, 0.1741222466921496, 0.8985539910543714, 0.6873287046209, 0.06175271395374693, 0.12360556629629327, 0.009969804019098971, 0.6817013883866386, 0.6487580631793057, 0.590836674594917, 0.8171203529385904]\n"
     ]
    }
   ],
   "source": [
    "matr_list = matrix.ravel().tolist()\n",
    "print(matr_list)"
   ]
  },
  {
   "cell_type": "code",
   "execution_count": 91,
   "metadata": {},
   "outputs": [
    {
     "name": "stdout",
     "output_type": "stream",
     "text": [
      "8.116009985590729\n"
     ]
    }
   ],
   "source": [
    "matr_sum = 0\n",
    "for i in matr_list:\n",
    "    matr_sum += i\n",
    "print(matr_sum)"
   ]
  },
  {
   "cell_type": "markdown",
   "metadata": {},
   "source": [
    "# 2.2"
   ]
  },
  {
   "cell_type": "code",
   "execution_count": 108,
   "metadata": {},
   "outputs": [
    {
     "name": "stdout",
     "output_type": "stream",
     "text": [
      "[[0.60312675 0.28508514 0.59189648]\n",
      " [0.95441097 0.14993933 0.07262007]\n",
      " [0.63550794 0.14895528 0.85138894]\n",
      " [0.79542167 0.56458062 0.59031821]]\n"
     ]
    }
   ],
   "source": [
    "matrix = np.random.rand(4,3)\n",
    "print(matrix)"
   ]
  },
  {
   "cell_type": "code",
   "execution_count": 99,
   "metadata": {},
   "outputs": [
    {
     "name": "stdout",
     "output_type": "stream",
     "text": [
      "[0.79910875 0.4005582  0.89364721]\n"
     ]
    }
   ],
   "source": [
    "max_value = matrix.max(axis=0)\n",
    "print(max_value)"
   ]
  },
  {
   "cell_type": "code",
   "execution_count": 110,
   "metadata": {},
   "outputs": [
    {
     "name": "stdout",
     "output_type": "stream",
     "text": [
      "[2.98846733 1.14856037 2.1062237 ]\n",
      "2.98846732679855\n"
     ]
    }
   ],
   "source": [
    "col_sum = matrix.sum(axis=0)\n",
    "print(col_sum)\n",
    "print(max(col_sum))"
   ]
  },
  {
   "cell_type": "markdown",
   "metadata": {},
   "source": [
    "# 3.1"
   ]
  },
  {
   "cell_type": "code",
   "execution_count": 151,
   "metadata": {},
   "outputs": [],
   "source": [
    "students = [[1, 'ФИО1', '23', '1A'], [2, 'ФИО2', '25', '2A'], [3, 'ФИО3', '27', '3A'], [4, 'ФИО4', '29', '4A']]"
   ]
  },
  {
   "cell_type": "code",
   "execution_count": 152,
   "metadata": {},
   "outputs": [
    {
     "name": "stdout",
     "output_type": "stream",
     "text": [
      "[1, 'ФИО1', '23', '1A']\n"
     ]
    }
   ],
   "source": [
    "list_input = students[0]\n",
    "print(list_input)"
   ]
  },
  {
   "cell_type": "code",
   "execution_count": 153,
   "metadata": {},
   "outputs": [],
   "source": [
    "def list_conversion(arr):  \n",
    "    dict_final = {}\n",
    "    for i in range(0, len(arr)):\n",
    "        dict_output = {}\n",
    "        dict_output[arr[i][0]] = [arr[i][1], arr[i][2], arr[i][3]]\n",
    "        dict_final.update(dict_output)\n",
    "    return(dict_final)"
   ]
  },
  {
   "cell_type": "code",
   "execution_count": 154,
   "metadata": {},
   "outputs": [
    {
     "data": {
      "text/plain": [
       "{1: ['ФИО1', '23', '1A'],\n",
       " 2: ['ФИО2', '25', '2A'],\n",
       " 3: ['ФИО3', '27', '3A'],\n",
       " 4: ['ФИО4', '29', '4A']}"
      ]
     },
     "execution_count": 154,
     "metadata": {},
     "output_type": "execute_result"
    }
   ],
   "source": [
    "list_conversion(students)"
   ]
  },
  {
   "cell_type": "markdown",
   "metadata": {},
   "source": [
    "# 3.2"
   ]
  },
  {
   "cell_type": "code",
   "execution_count": 173,
   "metadata": {},
   "outputs": [],
   "source": [
    "group_dict = list_conversion(students)"
   ]
  },
  {
   "cell_type": "code",
   "execution_count": 180,
   "metadata": {},
   "outputs": [
    {
     "name": "stdout",
     "output_type": "stream",
     "text": [
      "Введите ФИО: ФИО1\n",
      "['ФИО1', '23', '1A']\n",
      "Введите номер группы: 1A\n",
      "{1: ['ФИО1', '23', '1A'], 2: ['ФИО2', '25', '2A'], 3: ['ФИО3', '27', '3A'], 4: ['ФИО4', '29', '4A']}\n"
     ]
    }
   ],
   "source": [
    "name = input('Введите ФИО: ')\n",
    "for number, attributes in group_dict.items():\n",
    "    if name in attributes:\n",
    "        print(attributes)\n",
    "        new_group = input('Введите номер группы: ')\n",
    "        attributes[2] = new_group\n",
    "print(group_dict)        "
   ]
  },
  {
   "cell_type": "markdown",
   "metadata": {},
   "source": [
    "# 3.3"
   ]
  },
  {
   "cell_type": "code",
   "execution_count": 181,
   "metadata": {},
   "outputs": [
    {
     "name": "stdout",
     "output_type": "stream",
     "text": [
      "Введите ФИО: ФИО1\n",
      "['ФИО1', '23', '1A']\n",
      "Введите возраст: 99\n",
      "{1: ['ФИО1', '99', '1A'], 2: ['ФИО2', '25', '2A'], 3: ['ФИО3', '27', '3A'], 4: ['ФИО4', '29', '4A']}\n"
     ]
    }
   ],
   "source": [
    "name = input('Введите ФИО: ')\n",
    "for number, attributes in group_dict.items():\n",
    "    if name in attributes:\n",
    "        print(attributes)\n",
    "        new_age = input('Введите возраст: ')\n",
    "        attributes[1] = new_age\n",
    "print(group_dict) "
   ]
  },
  {
   "cell_type": "code",
   "execution_count": null,
   "metadata": {},
   "outputs": [],
   "source": []
  }
 ],
 "metadata": {
  "kernelspec": {
   "display_name": "Python 3",
   "language": "python",
   "name": "python3"
  },
  "language_info": {
   "codemirror_mode": {
    "name": "ipython",
    "version": 3
   },
   "file_extension": ".py",
   "mimetype": "text/x-python",
   "name": "python",
   "nbconvert_exporter": "python",
   "pygments_lexer": "ipython3",
   "version": "3.7.0"
  }
 },
 "nbformat": 4,
 "nbformat_minor": 2
}
