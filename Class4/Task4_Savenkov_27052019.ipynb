{
 "cells": [
  {
   "cell_type": "markdown",
   "metadata": {},
   "source": [
    "# Task 1"
   ]
  },
  {
   "cell_type": "code",
   "execution_count": 109,
   "metadata": {},
   "outputs": [],
   "source": [
    "import datetime\n",
    "from datetime import datetime\n",
    "from datetime import timedelta"
   ]
  },
  {
   "cell_type": "code",
   "execution_count": 110,
   "metadata": {},
   "outputs": [],
   "source": [
    "def dates_in_range(start_date, end_date):\n",
    "    start_date_dt = datetime.strptime(start_date, '%Y-%m-%d')\n",
    "    end_date_dt = datetime.strptime(end_date, '%Y-%m-%d')\n",
    "    current_dt = start_date_dt\n",
    "    while current_dt <= end_date_dt:\n",
    "        print(current_dt.strftime('%Y-%m-%d'))\n",
    "        current_dt += timedelta(days=1)"
   ]
  },
  {
   "cell_type": "code",
   "execution_count": 111,
   "metadata": {},
   "outputs": [
    {
     "name": "stdout",
     "output_type": "stream",
     "text": [
      "2018-01-01\n",
      "2018-01-02\n",
      "2018-01-03\n",
      "2018-01-04\n",
      "2018-01-05\n",
      "2018-01-06\n",
      "2018-01-07\n"
     ]
    }
   ],
   "source": [
    "dates_in_range('2018-01-01', '2018-01-07')"
   ]
  },
  {
   "cell_type": "markdown",
   "metadata": {},
   "source": [
    "# Task 2"
   ]
  },
  {
   "cell_type": "code",
   "execution_count": 112,
   "metadata": {},
   "outputs": [],
   "source": [
    "def dates_in_range(start_date, end_date):\n",
    "    try:\n",
    "        start_date_dt = datetime.strptime(start_date, '%Y-%m-%d')\n",
    "        end_date_dt = datetime.strptime(end_date, '%Y-%m-%d')\n",
    "        current_dt = start_date_dt\n",
    "        if current_dt <= end_date_dt:\n",
    "            while current_dt <= end_date_dt:\n",
    "                print(current_dt.strftime('%Y-%m-%d'))\n",
    "                current_dt += timedelta(days=1)\n",
    "        else:\n",
    "            current_dt = list()\n",
    "            print(current_dt)\n",
    "    except:\n",
    "        current_dt = list()\n",
    "        print(current_dt)"
   ]
  },
  {
   "cell_type": "code",
   "execution_count": 113,
   "metadata": {},
   "outputs": [
    {
     "name": "stdout",
     "output_type": "stream",
     "text": [
      "2018-01-01\n",
      "2018-01-02\n",
      "2018-01-03\n",
      "2018-01-04\n",
      "2018-01-05\n",
      "2018-01-06\n",
      "2018-01-07\n"
     ]
    }
   ],
   "source": [
    "dates_in_range('2018-01-01', '2018-01-07')"
   ]
  },
  {
   "cell_type": "markdown",
   "metadata": {},
   "source": [
    "Если неправильный формат - возвращаем пустой список"
   ]
  },
  {
   "cell_type": "code",
   "execution_count": 114,
   "metadata": {},
   "outputs": [
    {
     "name": "stdout",
     "output_type": "stream",
     "text": [
      "[]\n"
     ]
    }
   ],
   "source": [
    "dates_in_range('2018-01-00', '2018-01-07')"
   ]
  },
  {
   "cell_type": "markdown",
   "metadata": {},
   "source": [
    "Если start_date > end_date - возвращаем пустой список"
   ]
  },
  {
   "cell_type": "code",
   "execution_count": 115,
   "metadata": {},
   "outputs": [
    {
     "name": "stdout",
     "output_type": "stream",
     "text": [
      "[]\n"
     ]
    }
   ],
   "source": [
    "dates_in_range('2018-01-10', '2018-01-07')"
   ]
  },
  {
   "cell_type": "markdown",
   "metadata": {},
   "source": [
    "# Task 3"
   ]
  },
  {
   "cell_type": "code",
   "execution_count": 116,
   "metadata": {},
   "outputs": [],
   "source": [
    "stream = ['2018-04-02', '2018-02-29', '2018-19-02']"
   ]
  },
  {
   "cell_type": "code",
   "execution_count": 117,
   "metadata": {},
   "outputs": [],
   "source": [
    "def check_func(arr):\n",
    "    for i in range(0, len(arr)):\n",
    "        try:\n",
    "            datetime.strptime(stream[i], '%Y-%m-%d')\n",
    "            print('True')\n",
    "        except:\n",
    "            print('False')"
   ]
  },
  {
   "cell_type": "code",
   "execution_count": 118,
   "metadata": {},
   "outputs": [
    {
     "name": "stdout",
     "output_type": "stream",
     "text": [
      "True\n",
      "False\n",
      "False\n"
     ]
    }
   ],
   "source": [
    "check_func(stream)"
   ]
  },
  {
   "cell_type": "markdown",
   "metadata": {},
   "source": [
    "# Task 4"
   ]
  },
  {
   "cell_type": "markdown",
   "metadata": {},
   "source": [
    "Если сегодняшний день не равен первому дню месяца - функция возвращает список всех дней до вчерашнего дня"
   ]
  },
  {
   "cell_type": "code",
   "execution_count": 119,
   "metadata": {},
   "outputs": [
    {
     "name": "stdout",
     "output_type": "stream",
     "text": [
      "2019-05-01\n",
      "2019-05-02\n",
      "2019-05-03\n",
      "2019-05-04\n",
      "2019-05-05\n",
      "2019-05-06\n",
      "2019-05-07\n",
      "2019-05-08\n",
      "2019-05-09\n",
      "2019-05-10\n",
      "2019-05-11\n",
      "2019-05-12\n",
      "2019-05-13\n",
      "2019-05-14\n",
      "2019-05-15\n",
      "2019-05-16\n",
      "2019-05-17\n",
      "2019-05-18\n",
      "2019-05-19\n",
      "2019-05-20\n",
      "2019-05-21\n",
      "2019-05-22\n",
      "2019-05-23\n",
      "2019-05-24\n",
      "2019-05-25\n",
      "2019-05-26\n",
      "2019-05-27\n"
     ]
    }
   ],
   "source": [
    "def dates_list():\n",
    "    now = datetime.now().date()\n",
    "    #now = datetime.strptime(str('2018-05-08'), '%Y-%m-%d').date()\n",
    "    current_dt = datetime.strptime(str(now), '%Y-%m-%d').date()\n",
    "    if current_dt > now.replace(day = 1):\n",
    "        month_begin = now.replace(day = 1)\n",
    "        month_end = current_dt - timedelta(days=1)\n",
    "        while month_begin <= month_end:\n",
    "            print(month_begin)\n",
    "            month_begin += timedelta(days = 1)\n",
    "    else:\n",
    "        last_month_end = now.replace(day = 1) - timedelta(days=1)\n",
    "        last_month_begin = last_month_end.replace(day = 1)\n",
    "        while last_month_begin <= last_month_end:\n",
    "            print(last_month_begin.strftime('%Y-%m-%d'))\n",
    "            last_month_begin += timedelta(days = 1)\n",
    "dates_list()"
   ]
  },
  {
   "cell_type": "markdown",
   "metadata": {},
   "source": [
    "Если сегодняшний день - первый день в месяце, то функция вернет все даты прошлого месяца"
   ]
  },
  {
   "cell_type": "code",
   "execution_count": 120,
   "metadata": {},
   "outputs": [
    {
     "name": "stdout",
     "output_type": "stream",
     "text": [
      "2018-04-01\n",
      "2018-04-02\n",
      "2018-04-03\n",
      "2018-04-04\n",
      "2018-04-05\n",
      "2018-04-06\n",
      "2018-04-07\n",
      "2018-04-08\n",
      "2018-04-09\n",
      "2018-04-10\n",
      "2018-04-11\n",
      "2018-04-12\n",
      "2018-04-13\n",
      "2018-04-14\n",
      "2018-04-15\n",
      "2018-04-16\n",
      "2018-04-17\n",
      "2018-04-18\n",
      "2018-04-19\n",
      "2018-04-20\n",
      "2018-04-21\n",
      "2018-04-22\n",
      "2018-04-23\n",
      "2018-04-24\n",
      "2018-04-25\n",
      "2018-04-26\n",
      "2018-04-27\n",
      "2018-04-28\n",
      "2018-04-29\n",
      "2018-04-30\n"
     ]
    }
   ],
   "source": [
    "def dates_list():\n",
    "    #now = datetime.now().date()\n",
    "    now = datetime.strptime(str('2018-05-01'), '%Y-%m-%d').date()\n",
    "    current_dt = datetime.strptime(str(now), '%Y-%m-%d').date()\n",
    "    if current_dt > now.replace(day = 1):\n",
    "        month_begin = now.replace(day = 1)\n",
    "        month_end = current_dt - timedelta(days=1)\n",
    "        while month_begin <= month_end:\n",
    "            print(month_begin)\n",
    "            month_begin += timedelta(days = 1)\n",
    "    else:\n",
    "        last_month_end = now.replace(day = 1) - timedelta(days=1)\n",
    "        last_month_begin = last_month_end.replace(day = 1)\n",
    "        while last_month_begin <= last_month_end:\n",
    "            print(last_month_begin.strftime('%Y-%m-%d'))\n",
    "            last_month_begin += timedelta(days = 1)\n",
    "dates_list()"
   ]
  }
 ],
 "metadata": {
  "kernelspec": {
   "display_name": "Python 3",
   "language": "python",
   "name": "python3"
  },
  "language_info": {
   "codemirror_mode": {
    "name": "ipython",
    "version": 3
   },
   "file_extension": ".py",
   "mimetype": "text/x-python",
   "name": "python",
   "nbconvert_exporter": "python",
   "pygments_lexer": "ipython3",
   "version": "3.7.0"
  }
 },
 "nbformat": 4,
 "nbformat_minor": 2
}
