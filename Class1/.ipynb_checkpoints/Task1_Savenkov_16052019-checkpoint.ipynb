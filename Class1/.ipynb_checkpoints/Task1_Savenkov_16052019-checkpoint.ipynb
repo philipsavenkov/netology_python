{
 "cells": [
  {
   "cell_type": "markdown",
   "metadata": {},
   "source": [
    "# Task 1"
   ]
  },
  {
   "cell_type": "code",
   "execution_count": 2,
   "metadata": {},
   "outputs": [
    {
     "data": {
      "text/plain": [
       "False"
      ]
     },
     "execution_count": 2,
     "metadata": {},
     "output_type": "execute_result"
    }
   ],
   "source": [
    "long_phrase = 'Ќасколько проще было бы писать программы, если бы не заказчики'\n",
    "short_phrase = '640 б должно хватить дл€ любых задач. Ѕилл √ейтс (по легенде)'\n",
    "#print(len(long_phrase))\n",
    "#print(len(short_phrase))\n",
    "len(long_phrase) < len(short_phrase)"
   ]
  },
  {
   "cell_type": "markdown",
   "metadata": {},
   "source": [
    "# Task 2"
   ]
  },
  {
   "cell_type": "code",
   "execution_count": 4,
   "metadata": {},
   "outputs": [
    {
     "name": "stdout",
     "output_type": "stream",
     "text": [
      "Ѕуква \"а\" встречается чаще буквы \"и\"\n"
     ]
    }
   ],
   "source": [
    "text = '≈сли программист в 9-00 утра на работе, значит, он там и ночевал'\n",
    "count_a = text.count('а')\n",
    "count_i = text.count('и')\n",
    "if count_a > count_i:\n",
    "  print('Буква \"а\" встречается чаще буквы \"и\"')\n",
    "else:\n",
    "  print('Буква \"и\" встречается чаще буквы \"а\"')"
   ]
  },
  {
   "cell_type": "markdown",
   "metadata": {},
   "source": [
    "# Task 3"
   ]
  },
  {
   "cell_type": "code",
   "execution_count": null,
   "metadata": {},
   "outputs": [],
   "source": [
    "print(213.68 * (2 ** 20))"
   ]
  },
  {
   "cell_type": "code",
   "execution_count": 6,
   "metadata": {},
   "outputs": [
    {
     "name": "stdout",
     "output_type": "stream",
     "text": [
      "Объем файла равен 213.68Mb\n"
     ]
    }
   ],
   "source": [
    "volume = 224059719.68\n",
    "print('Объем файла равен ' + str(volume / (2 ** 20)) +'Mb')"
   ]
  },
  {
   "cell_type": "markdown",
   "metadata": {},
   "source": [
    "# Task 4"
   ]
  },
  {
   "cell_type": "code",
   "execution_count": 7,
   "metadata": {},
   "outputs": [
    {
     "name": "stdout",
     "output_type": "stream",
     "text": [
      "0.49999999999999994\n"
     ]
    }
   ],
   "source": [
    "import math\n",
    "grad = 30\n",
    "print(math.sin(grad * math.pi / 180))"
   ]
  },
  {
   "cell_type": "markdown",
   "metadata": {},
   "source": [
    "# Task 5"
   ]
  },
  {
   "cell_type": "code",
   "execution_count": 9,
   "metadata": {},
   "outputs": [
    {
     "name": "stdout",
     "output_type": "stream",
     "text": [
      "0.30000000000000004\n"
     ]
    }
   ],
   "source": [
    "print(0.1 + 0.2)"
   ]
  },
  {
   "cell_type": "markdown",
   "metadata": {},
   "source": [
    "\"Нельзя представить бесконечное число действительных чисел в конечном числе бит, поэтому есть некоторое округление.  Когда код компилируется или интерпретируется, \"0.1\" уже округляется до ближайшего номера в этом формате, что приводит к небольшой ошибке округления даже до того, как произойдет расчет.\"\n",
    "Это то, что говорит гугл по этому поводу. До меня пока этот концепт полностью не дошел. Буду копать еще)"
   ]
  },
  {
   "cell_type": "markdown",
   "metadata": {},
   "source": [
    "# Task 6"
   ]
  },
  {
   "cell_type": "code",
   "execution_count": 10,
   "metadata": {},
   "outputs": [
    {
     "name": "stdout",
     "output_type": "stream",
     "text": [
      "36\n",
      "25\n"
     ]
    }
   ],
   "source": [
    "a = 25\n",
    "b = 36\n",
    "a = a + b\n",
    "b = a - b\n",
    "a = a - b\n",
    "print(a)\n",
    "print(b)"
   ]
  },
  {
   "cell_type": "markdown",
   "metadata": {},
   "source": [
    "# Task 7"
   ]
  },
  {
   "cell_type": "markdown",
   "metadata": {},
   "source": [
    "Можно сделать перевод встроенной функцией int в одну строку:"
   ]
  },
  {
   "cell_type": "code",
   "execution_count": 11,
   "metadata": {
    "scrolled": true
   },
   "outputs": [
    {
     "name": "stdout",
     "output_type": "stream",
     "text": [
      "19\n"
     ]
    }
   ],
   "source": [
    "num_bin = 10011\n",
    "num_dec = int(str(num_bin), 2)\n",
    "print(num_dec)"
   ]
  },
  {
   "cell_type": "markdown",
   "metadata": {},
   "source": [
    "Можно (по намеку из задания) по формуле перевода с помощью цикла:"
   ]
  },
  {
   "cell_type": "code",
   "execution_count": 12,
   "metadata": {},
   "outputs": [
    {
     "name": "stdout",
     "output_type": "stream",
     "text": [
      "19\n"
     ]
    }
   ],
   "source": [
    "num_bin = 10011\n",
    "num_dec = 0\n",
    "i = 0\n",
    "\n",
    "for i in range(0, len(str(num_bin))):\n",
    "  num_dec = num_dec + int(str(num_bin)[i]) * (2 ** (len(str(num_bin)) - 1 - i))\n",
    "  i += 1\n",
    "print(num_dec)"
   ]
  }
 ],
 "metadata": {
  "kernelspec": {
   "display_name": "Python 3",
   "language": "python",
   "name": "python3"
  },
  "language_info": {
   "codemirror_mode": {
    "name": "ipython",
    "version": 3
   },
   "file_extension": ".py",
   "mimetype": "text/x-python",
   "name": "python",
   "nbconvert_exporter": "python",
   "pygments_lexer": "ipython3",
   "version": "3.7.0"
  }
 },
 "nbformat": 4,
 "nbformat_minor": 2
}
